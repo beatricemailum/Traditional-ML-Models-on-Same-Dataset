{
 "cells": [
  {
   "cell_type": "markdown",
   "metadata": {},
   "source": [
    "# MLP Classifier"
   ]
  },
  {
   "cell_type": "markdown",
   "metadata": {},
   "source": [
    "#### Using the same flowers dataset"
   ]
  },
  {
   "cell_type": "markdown",
   "metadata": {},
   "source": [
    "IMPORTING LIBRARIES"
   ]
  },
  {
   "cell_type": "code",
   "execution_count": 1,
   "metadata": {},
   "outputs": [],
   "source": [
    "import os\n",
    "import numpy as np\n",
    "import matplotlib.pyplot as plt\n",
    "import cv2\n",
    "\n",
    "from sklearn.neural_network import MLPClassifier\n",
    "from sklearn.datasets import make_classification\n",
    "from sklearn.model_selection import train_test_split\n",
    "from sklearn.preprocessing import LabelEncoder\n",
    "X, y = make_classification(n_samples=100, random_state=1)\n",
    "X_train, X_test, y_train, y_test = train_test_split(X, y, stratify=y, random_state=1)\n",
    "from sklearn.metrics import accuracy_score, precision_score, recall_score, f1_score, confusion_matrix\n",
    "from tqdm import tqdm\n",
    "from timeit import default_timer as timer"
   ]
  },
  {
   "cell_type": "markdown",
   "metadata": {},
   "source": [
    "LOADING DATASET"
   ]
  },
  {
   "cell_type": "code",
   "execution_count": 2,
   "metadata": {},
   "outputs": [],
   "source": [
    "\n",
    "def load_dataset(base_path=\"C:\\\\Users\\\\belei\\\\Desktop\\\\SIM\\\\Big Data\\\\YEAR 2\\\\Y2 SEM 3\\\\218\\\\LAB\\\\flowers\", img_size = 32):\n",
    "    LABELS = ['daisy', 'dandelion', 'rose', 'sunflower', 'tulip']\n",
    "    X = []\n",
    "    Y = []\n",
    "    \n",
    "    for label in LABELS:\n",
    "        folder_path = os.path.join(base_path, label)\n",
    "        print(f\"Checking folder: '{folder_path}'\")  # Debugging\n",
    "        print(f\"Exists? {os.path.exists(folder_path)}\")  # Debugging\n",
    "\n",
    "        # Skip missing folders\n",
    "        if not os.path.exists(folder_path): \n",
    "            continue\n",
    "\n",
    "        for img_name in tqdm(os.listdir(folder_path)):\n",
    "            img_path = os.path.join(folder_path, img_name)\n",
    "            img = cv2.imread(img_path) #loading the image\n",
    "            img = cv2.resize(img, (img_size, img_size))\n",
    "            X.append(img)\n",
    "            Y.append(label)\n",
    "\n",
    "    #Convert lists to NumPy arrays\n",
    "    X = np.array(X)\n",
    "    Y = np.array(Y)  #Convert labels to numbers\n",
    "    \n",
    "    return X, Y"
   ]
  },
  {
   "cell_type": "markdown",
   "metadata": {},
   "source": [
    "PREPROCESSING IMGES, LOADING IN DATASET, EXTRACTING COLOR HISTOGRAM"
   ]
  },
  {
   "cell_type": "code",
   "execution_count": 3,
   "metadata": {},
   "outputs": [],
   "source": [
    "def preprocess_image(X, Y):\n",
    "    #normalize the pixel values\n",
    "    X = X / 255.0\n",
    "    encoder = LabelEncoder()\n",
    "    #converts target values to numerics\n",
    "    Y = encoder.fit_transform(Y)\n",
    "    return X, Y"
   ]
  },
  {
   "cell_type": "markdown",
   "metadata": {},
   "source": [
    "DEFINING EXTRACTION OF COLOUR HISTOGRAM FEATURES FROM IMAGES TO USE FOR TRAINING IN MLP\n"
   ]
  },
  {
   "cell_type": "code",
   "execution_count": 4,
   "metadata": {},
   "outputs": [],
   "source": [
    "def extract_color_histogram(X, hist_size=6):\n",
    "    col_hist = []\n",
    "    for img in X:\n",
    "        #ensuring that input values are in RGB numerics\n",
    "        if img is None:\n",
    "            print(\"Found empty image\")\n",
    "            continue\n",
    "\n",
    "        if img.ndim == 2:\n",
    "            img = cv2.cvtColor(img, cv2.COLOR_GRAY2RGB)\n",
    "        \n",
    "        if img.dtype != np.uint8:\n",
    "            img = (img * 255).astype(np.uint8)\n",
    "            \n",
    "        hist = cv2.calcHist([img], [0, 1, 2], None, (hist_size, hist_size, hist_size), [0, 256, 0, 256, 0, 256])\n",
    "        hist = cv2.normalize(hist, hist).flatten()\n",
    "        col_hist.append(hist)\n",
    "    return np.array(col_hist)"
   ]
  },
  {
   "cell_type": "code",
   "execution_count": 5,
   "metadata": {},
   "outputs": [
    {
     "name": "stdout",
     "output_type": "stream",
     "text": [
      "Checking folder: 'C:\\Users\\belei\\Desktop\\SIM\\Big Data\\YEAR 2\\Y2 SEM 3\\218\\LAB\\flowers\\daisy'\n",
      "Exists? True\n"
     ]
    },
    {
     "name": "stderr",
     "output_type": "stream",
     "text": [
      "100%|██████████| 764/764 [00:00<00:00, 1826.07it/s]\n"
     ]
    },
    {
     "name": "stdout",
     "output_type": "stream",
     "text": [
      "Checking folder: 'C:\\Users\\belei\\Desktop\\SIM\\Big Data\\YEAR 2\\Y2 SEM 3\\218\\LAB\\flowers\\dandelion'\n",
      "Exists? True\n"
     ]
    },
    {
     "name": "stderr",
     "output_type": "stream",
     "text": [
      "100%|██████████| 1052/1052 [00:00<00:00, 1747.95it/s]\n"
     ]
    },
    {
     "name": "stdout",
     "output_type": "stream",
     "text": [
      "Checking folder: 'C:\\Users\\belei\\Desktop\\SIM\\Big Data\\YEAR 2\\Y2 SEM 3\\218\\LAB\\flowers\\rose'\n",
      "Exists? True\n"
     ]
    },
    {
     "name": "stderr",
     "output_type": "stream",
     "text": [
      "100%|██████████| 784/784 [00:00<00:00, 1806.97it/s]\n"
     ]
    },
    {
     "name": "stdout",
     "output_type": "stream",
     "text": [
      "Checking folder: 'C:\\Users\\belei\\Desktop\\SIM\\Big Data\\YEAR 2\\Y2 SEM 3\\218\\LAB\\flowers\\sunflower'\n",
      "Exists? True\n"
     ]
    },
    {
     "name": "stderr",
     "output_type": "stream",
     "text": [
      "100%|██████████| 733/733 [00:00<00:00, 1357.68it/s]\n"
     ]
    },
    {
     "name": "stdout",
     "output_type": "stream",
     "text": [
      "Checking folder: 'C:\\Users\\belei\\Desktop\\SIM\\Big Data\\YEAR 2\\Y2 SEM 3\\218\\LAB\\flowers\\tulip'\n",
      "Exists? True\n"
     ]
    },
    {
     "name": "stderr",
     "output_type": "stream",
     "text": [
      "100%|██████████| 984/984 [00:00<00:00, 1600.29it/s]\n"
     ]
    },
    {
     "name": "stdout",
     "output_type": "stream",
     "text": [
      "X shape: (4317, 32, 32, 3)\n",
      "y shape: (4317,)\n",
      "Shape of X: (4317, 32, 32, 3)\n",
      "Shape of Y: (4317,)\n",
      "Shape of Hist: (4317, 216)\n"
     ]
    }
   ],
   "source": [
    "X, Y = load_dataset()\n",
    "print(f\"X shape: {X.shape}\")  #Expected: (num_samples, num_features)\n",
    "print(f\"y shape: {Y.shape}\")  #Expected: (num_samples,)'Loaded {len(X) - current_size} {LABELS[i]} images')\n",
    "\n",
    "X, Y = preprocess_image(X, Y)\n",
    "print(f\"Shape of X: {X.shape}\")\n",
    "print(f\"Shape of Y: {Y.shape}\")\n",
    "\n",
    "X = extract_color_histogram(X)\n",
    "print(f\"Shape of Hist: {X.shape}\")"
   ]
  },
  {
   "cell_type": "markdown",
   "metadata": {},
   "source": [
    "DEFINING MLP STRUCTURE"
   ]
  },
  {
   "cell_type": "code",
   "execution_count": 6,
   "metadata": {},
   "outputs": [
    {
     "name": "stdout",
     "output_type": "stream",
     "text": [
      "Computed m: 2053\n",
      "MLP Structure 1: (2053,)\n",
      "MLP Structure 2: (1539,)\n",
      "MLP Structure 3: (1026,)\n",
      "MLP Structure 4: (2053, 1026)\n",
      "MLP Structure 5: (2053, 1539)\n",
      "MLP Structure 6: (1539, 1026)\n",
      "MLP Structure 7: (2053, 1539, 1026)\n",
      "MLP Structure 8: (2053, 1026, 513)\n",
      "MLP Structure 9: (1539, 1026, 513)\n"
     ]
    }
   ],
   "source": [
    "input_size = 32*32*3\n",
    "output_size = 5\n",
    "m = int((2/3) * input_size + output_size)\n",
    "print(f\"Computed m: {m}\")\n",
    "\n",
    "mlp_structures = {\n",
    "    1: (m,),                       \n",
    "    2: (int(m * 0.75),),            \n",
    "    3: (int(m * 0.5),),             \n",
    "    4: (m, int(m * 0.5)),           \n",
    "    5: (m, int(m * 0.75)),          \n",
    "    6: (int(m * 0.75), int(m * 0.5)),\n",
    "    7: (m, int(m * 0.75), int(m * 0.5)),  \n",
    "    8: (m, int(m * 0.5), int(m * 0.25)),  \n",
    "    9: (int(m * 0.75), int(m * 0.5), int(m * 0.25))  \n",
    "}\n",
    "\n",
    "for i in range(1, 10):\n",
    "    print(f\"MLP Structure {i}: {mlp_structures[i]}\")\n",
    "\n",
    "mlp_structures = list(mlp_structures.values())\n"
   ]
  },
  {
   "cell_type": "markdown",
   "metadata": {},
   "source": [
    "SPLITTING INTO TRAINING, VALIDATON AND TESTING"
   ]
  },
  {
   "cell_type": "code",
   "execution_count": 7,
   "metadata": {},
   "outputs": [
    {
     "name": "stdout",
     "output_type": "stream",
     "text": [
      "Training set: (2590, 216), (2590,)\n",
      "Validation set: (863, 216), (863,)\n",
      "Test set: (864, 216), (864,)\n"
     ]
    }
   ],
   "source": [
    "X_train, X_temp, y_train, y_temp = train_test_split(X, Y, test_size=0.4, random_state=42)\n",
    "X_val, X_test, y_val, y_test = train_test_split(X_temp, y_temp, test_size=0.5, random_state=42)\n",
    "\n",
    "print(f\"Training set: {X_train.shape}, {y_train.shape}\")\n",
    "print(f\"Validation set: {X_val.shape}, {y_val.shape}\")\n",
    "print(f\"Test set: {X_test.shape}, {y_test.shape}\")\n"
   ]
  },
  {
   "cell_type": "markdown",
   "metadata": {},
   "source": [
    "STEP 6: TRAINING MLP CLASSIFIER WITH OPTIMAL STRUCTURE"
   ]
  },
  {
   "cell_type": "code",
   "execution_count": 8,
   "metadata": {},
   "outputs": [
    {
     "name": "stdout",
     "output_type": "stream",
     "text": [
      "\n",
      "Training MLP with hidden layer structure: (2053,)...\n",
      "Validation Accuracy:  0.5968 \n",
      "Training Time:  71.5616 seconds\n",
      "\n",
      "Best MLP Configuration: (2053,) with Accuracy: 0.5968\n",
      "\n",
      "Training MLP with hidden layer structure: (1539,)...\n",
      "Validation Accuracy:  0.5921 \n",
      "Training Time:  52.8105 seconds\n",
      "\n",
      "Best MLP Configuration: (2053,) with Accuracy: 0.5968\n",
      "\n",
      "Training MLP with hidden layer structure: (1026,)...\n",
      "Validation Accuracy:  0.5805 \n",
      "Training Time:  27.6416 seconds\n",
      "\n",
      "Best MLP Configuration: (2053,) with Accuracy: 0.5968\n",
      "\n",
      "Training MLP with hidden layer structure: (2053, 1026)...\n",
      "Validation Accuracy:  0.5852 \n",
      "Training Time:  89.1754 seconds\n",
      "\n",
      "Best MLP Configuration: (2053,) with Accuracy: 0.5968\n",
      "\n",
      "Training MLP with hidden layer structure: (2053, 1539)...\n",
      "Validation Accuracy:  0.6002 \n",
      "Training Time:  94.0578 seconds\n",
      "\n",
      "Best MLP Configuration: (2053, 1539) with Accuracy: 0.6002\n",
      "\n",
      "Training MLP with hidden layer structure: (1539, 1026)...\n",
      "Validation Accuracy:  0.5805 \n",
      "Training Time:  69.7392 seconds\n",
      "\n",
      "Best MLP Configuration: (2053, 1539) with Accuracy: 0.6002\n",
      "\n",
      "Training MLP with hidden layer structure: (2053, 1539, 1026)...\n",
      "Validation Accuracy:  0.6037 \n",
      "Training Time:  84.8595 seconds\n",
      "\n",
      "Best MLP Configuration: (2053, 1539, 1026) with Accuracy: 0.6037\n",
      "\n",
      "Training MLP with hidden layer structure: (2053, 1026, 513)...\n",
      "Validation Accuracy:  0.5863 \n",
      "Training Time:  35.9100 seconds\n",
      "\n",
      "Best MLP Configuration: (2053, 1539, 1026) with Accuracy: 0.6037\n",
      "\n",
      "Training MLP with hidden layer structure: (1539, 1026, 513)...\n",
      "Validation Accuracy:  0.5759 \n",
      "Training Time:  25.0906 seconds\n",
      "\n",
      "Best MLP Configuration: (2053, 1539, 1026) with Accuracy: 0.6037\n"
     ]
    }
   ],
   "source": [
    "\n",
    "best_acc = 0\n",
    "best_config = None\n",
    "training_times = {}\n",
    "\n",
    "for config in mlp_structures:\n",
    "    print(f\"\\nTraining MLP with hidden layer structure: {config}...\")\n",
    "\n",
    "    start_time = timer() #starts timing\n",
    "\n",
    "    mlp = MLPClassifier(hidden_layer_sizes=config,\n",
    "                        max_iter=1000,\n",
    "                        learning_rate_init=0.001, \n",
    "                        random_state=1).fit(X_train, y_train)\n",
    "   \n",
    "    training_time = timer() - start_time        #cacluclates the training time\n",
    "    training_times[config] = training_time       #store training time\n",
    "\n",
    "    y_pred = mlp.predict(X_val)\n",
    "    acc = accuracy_score(y_val, y_pred)\n",
    "\n",
    "    print(f\"Validation Accuracy: {acc: .4f} \\nTraining Time: {training_times[config]: .4f} seconds\")\n",
    "\n",
    "    if acc > best_acc:\n",
    "        best_acc = acc\n",
    "        best_config = config\n",
    "\n",
    "    print(f\"\\nBest MLP Configuration: {best_config} with Accuracy: {best_acc:.4f}\")"
   ]
  },
  {
   "cell_type": "markdown",
   "metadata": {},
   "source": [
    "RETRAINING MLP MODEL WITH BEST CONFIGURATION"
   ]
  },
  {
   "cell_type": "code",
   "execution_count": 15,
   "metadata": {},
   "outputs": [
    {
     "name": "stdout",
     "output_type": "stream",
     "text": [
      "\n",
      " Test Set Evaluation Results:\n",
      "Accuracy: 0.6100\n",
      "Precision: 0.6194\n",
      "Recall: 0.6100\n",
      "F1 Score: 0.6104\n",
      "Training Time: 124.8962 seconds\n",
      "Inference Time: 0.0210 seconds\n",
      "\n",
      "Classification Report:\n",
      "              precision    recall  f1-score   support\n",
      "\n",
      "           0       0.63      0.61      0.62       167\n",
      "           1       0.67      0.55      0.61       215\n",
      "           2       0.51      0.49      0.50       162\n",
      "           3       0.76      0.70      0.73       141\n",
      "           4       0.53      0.71      0.61       179\n",
      "\n",
      "    accuracy                           0.61       864\n",
      "   macro avg       0.62      0.61      0.61       864\n",
      "weighted avg       0.62      0.61      0.61       864\n",
      "\n"
     ]
    }
   ],
   "source": [
    "from sklearn.metrics import accuracy_score, precision_score, recall_score, f1_score, classification_report, confusion_matrix\n",
    "import time\n",
    "\n",
    "#Start train time timer\n",
    "start_train_time = time.time()\n",
    "#Re-train the best model on the full training + validation data\n",
    "mlp_best = MLPClassifier(hidden_layer_sizes=best_config, \n",
    "                        max_iter=1000, \n",
    "                        learning_rate_init=0.001, \n",
    "                        random_state=1)\n",
    "mlp_best.fit(np.vstack((X_train, X_val)), np.hstack((y_train, y_val)))  # Merge train + val\n",
    "\n",
    "#Compute total training time\n",
    "training_time = time.time() - start_train_time\n",
    "\n",
    "#Start inference timer\n",
    "start_inference_time = time.time()\n",
    "y_pred_test = mlp_best.predict(X_test)\n",
    "inference_time = time.time() - start_inference_time\n",
    "\n",
    "#Compute classification metrics\n",
    "accuracy = accuracy_score(y_test, y_pred_test)\n",
    "precision = precision_score(y_test, y_pred_test, average='weighted')\n",
    "recall = recall_score(y_test, y_pred_test, average='weighted')\n",
    "f1 = f1_score(y_test, y_pred_test, average='weighted')\n",
    "\n",
    "#Print Results\n",
    "print(f\"\\n Test Set Evaluation Results:\")\n",
    "print(f\"Accuracy: {accuracy:.4f}\")\n",
    "print(f\"Precision: {precision:.4f}\")\n",
    "print(f\"Recall: {recall:.4f}\")\n",
    "print(f\"F1 Score: {f1:.4f}\")\n",
    "print(f\"Training Time: {training_time:.4f} seconds\")\n",
    "print(f\"Inference Time: {inference_time:.4f} seconds\")\n",
    "\n",
    "#Print Classification Report\n",
    "print(\"\\nClassification Report:\")\n",
    "print(classification_report(y_test, y_pred_test))\n"
   ]
  },
  {
   "cell_type": "code",
   "execution_count": 10,
   "metadata": {},
   "outputs": [
    {
     "data": {
      "image/png": "[encoded data removed]",
      "text/plain": [
       "<Figure size 800x600 with 2 Axes>"
      ]
     },
     "metadata": {},
     "output_type": "display_data"
    },
    {
     "name": "stdout",
     "output_type": "stream",
     "text": [
      "\n",
      " Most Confused Classes: rose <-> tulip\n"
     ]
    }
   ],
   "source": [
    "import seaborn as sns\n",
    "import matplotlib.pyplot as plt\n",
    "\n",
    "LABELS = ['daisy', 'dandelion', 'rose', 'sunflower', 'tulip']\n",
    "\n",
    "#Compute confusion matrix\n",
    "conf_matrix = confusion_matrix(y_test, y_pred_test)\n",
    "\n",
    "#Plot Confusion Matrix\n",
    "plt.figure(figsize=(8, 6))\n",
    "sns.heatmap(conf_matrix, annot=True, cmap=\"Blues\", fmt=\"d\", xticklabels=LABELS, yticklabels=LABELS)\n",
    "plt.xlabel(\"Predicted Label\")\n",
    "plt.ylabel(\"True Label\")\n",
    "plt.title(\"Confusion Matrix\")\n",
    "plt.show()\n",
    "\n",
    "#Find most confused classes\n",
    "conf_matrix_no_diagonal = conf_matrix.copy()\n",
    "np.fill_diagonal(conf_matrix_no_diagonal, 0)  # Remove correct classifications\n",
    "most_confused = np.unravel_index(np.argmax(conf_matrix_no_diagonal), conf_matrix_no_diagonal.shape)\n",
    "\n",
    "print(f\"\\n Most Confused Classes: {LABELS[most_confused[0]]} <-> {LABELS[most_confused[1]]}\")\n"
   ]
  },
  {
   "cell_type": "code",
   "execution_count": 11,
   "metadata": {},
   "outputs": [
    {
     "name": "stdout",
     "output_type": "stream",
     "text": [
      "\n",
      "Correctly Classified: 527 images\n",
      "Wrongly Classified: 337 images\n"
     ]
    }
   ],
   "source": [
    "correct_indices = np.where(y_pred_test == y_test)[0]\n",
    "wrong_indices = np.where(y_pred_test != y_test)[0]\n",
    "\n",
    "print(f\"\\nCorrectly Classified: {len(correct_indices)} images\")\n",
    "print(f\"Wrongly Classified: {len(wrong_indices)} images\")\n"
   ]
  },
  {
   "cell_type": "code",
   "execution_count": 12,
   "metadata": {},
   "outputs": [
    {
     "name": "stdout",
     "output_type": "stream",
     "text": [
      "Checking folder: 'C:\\Users\\belei\\Desktop\\SIM\\Big Data\\YEAR 2\\Y2 SEM 3\\218\\LAB\\flowers\\daisy'\n",
      "Exists? True\n"
     ]
    },
    {
     "name": "stderr",
     "output_type": "stream",
     "text": [
      "100%|██████████| 764/764 [00:00<00:00, 1906.52it/s]\n"
     ]
    },
    {
     "name": "stdout",
     "output_type": "stream",
     "text": [
      "Checking folder: 'C:\\Users\\belei\\Desktop\\SIM\\Big Data\\YEAR 2\\Y2 SEM 3\\218\\LAB\\flowers\\dandelion'\n",
      "Exists? True\n"
     ]
    },
    {
     "name": "stderr",
     "output_type": "stream",
     "text": [
      "100%|██████████| 1052/1052 [00:00<00:00, 1770.41it/s]\n"
     ]
    },
    {
     "name": "stdout",
     "output_type": "stream",
     "text": [
      "Checking folder: 'C:\\Users\\belei\\Desktop\\SIM\\Big Data\\YEAR 2\\Y2 SEM 3\\218\\LAB\\flowers\\rose'\n",
      "Exists? True\n"
     ]
    },
    {
     "name": "stderr",
     "output_type": "stream",
     "text": [
      "100%|██████████| 784/784 [00:00<00:00, 1729.99it/s]\n"
     ]
    },
    {
     "name": "stdout",
     "output_type": "stream",
     "text": [
      "Checking folder: 'C:\\Users\\belei\\Desktop\\SIM\\Big Data\\YEAR 2\\Y2 SEM 3\\218\\LAB\\flowers\\sunflower'\n",
      "Exists? True\n"
     ]
    },
    {
     "name": "stderr",
     "output_type": "stream",
     "text": [
      "100%|██████████| 733/733 [00:00<00:00, 1353.54it/s]\n"
     ]
    },
    {
     "name": "stdout",
     "output_type": "stream",
     "text": [
      "Checking folder: 'C:\\Users\\belei\\Desktop\\SIM\\Big Data\\YEAR 2\\Y2 SEM 3\\218\\LAB\\flowers\\tulip'\n",
      "Exists? True\n"
     ]
    },
    {
     "name": "stderr",
     "output_type": "stream",
     "text": [
      "100%|██████████| 984/984 [00:00<00:00, 1587.96it/s]\n"
     ]
    }
   ],
   "source": [
    "#reloading original imagines\n",
    "X_original, Y_original = load_dataset()\n",
    "\n",
    "#resplitting before feature extraction to check correctly classified images\n",
    "#Recreate the train, validation, and test sets\n",
    "X_train_original, X_temp, y_train_original, y_temp = train_test_split(X_original, Y_original, test_size=0.4, random_state=42)\n",
    "X_val_original, X_test_original, y_val_original, y_test_original = train_test_split(X_temp, y_temp, test_size=0.5, random_state=42)\n",
    "\n"
   ]
  },
  {
   "cell_type": "code",
   "execution_count": 13,
   "metadata": {},
   "outputs": [
    {
     "data": {
      "image/png": "[encoded data removed]",
      "text/plain": [
       "<Figure size 1000x500 with 5 Axes>"
      ]
     },
     "metadata": {},
     "output_type": "display_data"
    },
    {
     "data": {
      "image/png": "[encoded data removed]",
      "text/plain": [
       "<Figure size 1000x500 with 5 Axes>"
      ]
     },
     "metadata": {},
     "output_type": "display_data"
    }
   ],
   "source": [
    "import matplotlib.pyplot as plt\n",
    "\n",
    "def show_images(indices, title, num_images=5):\n",
    "    plt.figure(figsize=(10, 5))\n",
    "\n",
    "    if len(indices) == 0:\n",
    "        print(\"No images found to display!\")\n",
    "        return\n",
    "\n",
    "    for i, idx in enumerate(indices[:num_images]):\n",
    "        img_size = 32  # Match dataset size\n",
    "\n",
    "        if idx >= len(X_test_original):\n",
    "            print(f\"Skipping index {idx} (out of range)\")\n",
    "            continue\n",
    "\n",
    "        img = X_test_original[idx]\n",
    "\n",
    "        #Ensure correct shape (if X_test is flattened)\n",
    "        if len(img.shape) == 1:\n",
    "            img = img.reshape(img_size, img_size, 3)\n",
    "\n",
    "        #Ensure image values are in correct range\n",
    "        img = (img * 255).astype(\"uint8\") if img.max() <= 1 else img\n",
    "\n",
    "        plt.subplot(1, num_images, i+1)\n",
    "        plt.imshow(img)\n",
    "        plt.axis(\"off\")\n",
    "        plt.title(f\"Pred: {y_pred_test[idx]}\\nActual: {y_test[idx]}\")\n",
    "    \n",
    "    plt.suptitle(title)\n",
    "    plt.show()\n",
    "\n",
    "# Show Correctly Classified Images\n",
    "show_images(correct_indices, \"Correctly Classified Flowers\")\n",
    "\n",
    "# Show Incorrectly Classified Images\n",
    "show_images(wrong_indices, \"Wrongly Classified Flowers\")\n"
   ]
  }
 ],
 "metadata": {
  "kernelspec": {
   "display_name": "base",
   "language": "python",
   "name": "python3"
  },
  "language_info": {
   "codemirror_mode": {
    "name": "ipython",
    "version": 3
   },
   "file_extension": ".py",
   "mimetype": "text/x-python",
   "name": "python",
   "nbconvert_exporter": "python",
   "pygments_lexer": "ipython3",
   "version": "3.12.7"
  }
 },
 "nbformat": 4,
 "nbformat_minor": 2
}
